{
 "cells": [
  {
   "cell_type": "markdown",
   "id": "75c55846",
   "metadata": {},
   "source": [
    "Online Webstore Dataset Analysis\n",
    "\n",
    "In this notebook, you will find commands to read in 3 datasets that help an online webstore track customer sales behaviour.\n",
    "\n",
    "The 3 main datasets are:\n",
    "\n",
    "Customer: A dataset containing basic customer information <br>\n",
    "Product: A dataset containing information about specific products and their prices <br>\n",
    "Sales: A dataset containing information about purchases made by a customer <br>\n",
    "\n",
    "\n",
    "\n"
   ]
  },
  {
   "cell_type": "code",
   "execution_count": 2,
   "id": "ab182580",
   "metadata": {},
   "outputs": [
    {
     "name": "stderr",
     "output_type": "stream",
     "text": [
      "25/06/23 08:40:52 WARN Utils: Your hostname, codespaces-22a5ca resolves to a loopback address: 127.0.0.1; using 10.0.11.12 instead (on interface eth0)\n",
      "25/06/23 08:40:52 WARN Utils: Set SPARK_LOCAL_IP if you need to bind to another address\n",
      "Setting default log level to \"WARN\".\n",
      "To adjust logging level use sc.setLogLevel(newLevel). For SparkR, use setLogLevel(newLevel).\n",
      "25/06/23 08:40:53 WARN NativeCodeLoader: Unable to load native-hadoop library for your platform... using builtin-java classes where applicable\n"
     ]
    }
   ],
   "source": [
    "from pyspark.sql.types import StructType, StructField, IntegerType, ArrayType, StringType, DateType\n",
    "from pyspark.sql import SparkSession\n",
    "\n",
    "# Initialize a SparkSession\n",
    "spark = (\n",
    "    SparkSession.builder.appName(\"Spark Example\").getOrCreate()\n",
    ")"
   ]
  },
  {
   "cell_type": "code",
   "execution_count": 3,
   "id": "f557f922",
   "metadata": {},
   "outputs": [
    {
     "name": "stderr",
     "output_type": "stream",
     "text": [
      "                                                                                \r"
     ]
    },
    {
     "name": "stdout",
     "output_type": "stream",
     "text": [
      "+------+----------+--------------------+-------------+\n",
      "|SaleID|CustomerID|          ProductIDs|Purchase_Date|\n",
      "+------+----------+--------------------+-------------+\n",
      "|   501|       297| [90, 72, 44, 4, 48]|   2023-02-20|\n",
      "|   502|       493|        [57, 53, 52]|   2023-02-14|\n",
      "|   503|       471|        [19, 62, 21]|   2023-11-10|\n",
      "|   504|       127|                [42]|   2023-06-10|\n",
      "|   505|       413|    [29, 97, 53, 80]|   2023-12-15|\n",
      "|   506|       459|    [74, 64, 93, 15]|   2023-09-23|\n",
      "|   507|       434|    [98, 33, 15, 28]|   2023-04-27|\n",
      "|   508|       241|        [56, 57, 97]|   2023-02-06|\n",
      "|   509|       366|[39, 61, 69, 95, 88]|   2023-11-03|\n",
      "|   510|       261|                [77]|   2023-06-14|\n",
      "|   511|       164|                [14]|   2023-11-29|\n",
      "|   512|       350|   [94, 70, 52, 100]|   2023-11-25|\n",
      "|   513|       369|                [63]|   2023-12-20|\n",
      "|   514|       196|                [14]|   2023-10-13|\n",
      "|   515|       021|  [5, 31, 8, 70, 98]|   2023-04-09|\n",
      "|   516|       361| [22, 81, 1, 33, 25]|   2023-08-26|\n",
      "|   517|       072|            [17, 62]|   2023-06-16|\n",
      "|   518|       186|      [26, 57, 4, 6]|   2023-04-29|\n",
      "|   519|       244|            [57, 46]|   2023-04-02|\n",
      "|   520|       291|[56, 86, 38, 45, 97]|   2023-10-06|\n",
      "+------+----------+--------------------+-------------+\n",
      "only showing top 20 rows\n",
      "\n"
     ]
    }
   ],
   "source": [
    "\n",
    "# Define the schema\n",
    "sales_schema = StructType([\n",
    "    StructField(\"SaleID\", IntegerType(), True),\n",
    "    StructField(\"CustomerID\", IntegerType(), True),\n",
    "    StructField(\"ProductIDs\", ArrayType(IntegerType()), True),\n",
    "    StructField(\"Purchase_Date\", StringType(), True)  # Using StringType for simplicity\n",
    "])\n",
    "\n",
    "\n",
    "sales = spark.read.parquet('sales_dataset.parquet', schema =sales_schema,header=True)\n",
    "sales.show()"
   ]
  },
  {
   "cell_type": "markdown",
   "id": "f97e309a",
   "metadata": {},
   "source": [
    "<h5> Question 1: Based on how we have read in the schema for the sales dataset, can you apply a schema to the customer and sales dataset? </h5>"
   ]
  },
  {
   "cell_type": "code",
   "execution_count": 4,
   "id": "22d3d70d",
   "metadata": {},
   "outputs": [],
   "source": [
    "customer = spark.read.parquet('customer_dataset.parquet', header=True)"
   ]
  },
  {
   "cell_type": "code",
   "execution_count": 5,
   "id": "0eb46c43",
   "metadata": {},
   "outputs": [
    {
     "name": "stdout",
     "output_type": "stream",
     "text": [
      "+----------+-----------+----------+------------+--------------------+\n",
      "|CustomerId|       Name|       DoB|Phone Number|               Email|\n",
      "+----------+-----------+----------+------------+--------------------+\n",
      "|       251|Customer251|1986-08-17| 01233756256|customer251@examp...|\n",
      "|       252|Customer252|1972-03-15| 00226581961|customer252@examp...|\n",
      "|       253|Customer253|1974-06-01| 55434224652|customer253@examp...|\n",
      "|       254|Customer254|1995-07-16| 80703660494|customer254@examp...|\n",
      "|       255|Customer255|1970-05-13| 92648819732|customer255@examp...|\n",
      "|       256|Customer256|1981-02-05| 44807391583|customer256@examp...|\n",
      "|       257|Customer257|1986-02-12| 50850238732|customer257@examp...|\n",
      "|       258|Customer258|1972-11-17| 59516227714|customer258@examp...|\n",
      "|       259|Customer259|1981-05-08| 12381763012|customer259@examp...|\n",
      "|       260|Customer260|1979-08-27| 22794996604|customer260@examp...|\n",
      "|       261|Customer261|1991-02-07| 79485574537|customer261@examp...|\n",
      "|       262|Customer262|1990-08-11| 70350414155|customer262@examp...|\n",
      "|       263|Customer263|1974-01-23| 32892172520|customer263@examp...|\n",
      "|       264|Customer264|1970-10-19| 39237525846|customer264@examp...|\n",
      "|       265|Customer265|1993-01-09| 11595859548|customer265@examp...|\n",
      "|       266|Customer266|1971-11-13| 94896126067|customer266@examp...|\n",
      "|       267|Customer267|1985-02-01| 35643652433|customer267@examp...|\n",
      "|       268|Customer268|1986-11-18| 33004422832|customer268@examp...|\n",
      "|       269|Customer269|1991-01-12| 56018738924|customer269@examp...|\n",
      "|       270|Customer270|1979-03-18| 61015510262|customer270@examp...|\n",
      "+----------+-----------+----------+------------+--------------------+\n",
      "only showing top 20 rows\n",
      "\n"
     ]
    }
   ],
   "source": [
    "customer.show()"
   ]
  },
  {
   "cell_type": "code",
   "execution_count": 6,
   "id": "57715613",
   "metadata": {},
   "outputs": [],
   "source": [
    "product = spark.read.parquet('product_dataset.parquet', header=True)"
   ]
  },
  {
   "cell_type": "code",
   "execution_count": 7,
   "id": "941192ad",
   "metadata": {},
   "outputs": [
    {
     "name": "stdout",
     "output_type": "stream",
     "text": [
      "+---------+---------+-----+\n",
      "|ProductID|     Item| cost|\n",
      "+---------+---------+-----+\n",
      "|       51|Product51|22.39|\n",
      "|       52|Product52|30.01|\n",
      "|       53|Product53|36.27|\n",
      "|       54|Product54|16.06|\n",
      "|       55|Product55|82.08|\n",
      "|       56|Product56|53.73|\n",
      "|       57|Product57|23.21|\n",
      "|       58|Product58|72.54|\n",
      "|       59|Product59|61.59|\n",
      "|       60|Product60|24.33|\n",
      "|       61|Product61|83.69|\n",
      "|       62|Product62|57.67|\n",
      "|       63|Product63|40.62|\n",
      "|       64|Product64|15.57|\n",
      "|       65|Product65|50.09|\n",
      "|       66|Product66| 99.6|\n",
      "|       67|Product67|28.77|\n",
      "|       68|Product68|50.54|\n",
      "|       69|Product69|85.06|\n",
      "|       70|Product70| 64.1|\n",
      "+---------+---------+-----+\n",
      "only showing top 20 rows\n",
      "\n"
     ]
    }
   ],
   "source": [
    "product.show()"
   ]
  },
  {
   "cell_type": "code",
   "execution_count": 8,
   "id": "ba4dda9c",
   "metadata": {},
   "outputs": [],
   "source": [
    "# Register the DataFrame as a SQL temporary view\n",
    "customer.createOrReplaceTempView(\"tmp_customer\")\n",
    "sales.createOrReplaceTempView(\"tmp_sales\")\n",
    "product.createOrReplaceTempView(\"tmp_product\")"
   ]
  },
  {
   "cell_type": "markdown",
   "id": "2c14d66e",
   "metadata": {},
   "source": [
    "<h5> Question 2: Calculate the number of customers that have signed up to the website that have made a purchase on the website </h5>\n"
   ]
  },
  {
   "cell_type": "code",
   "execution_count": 10,
   "id": "a5d58a87",
   "metadata": {},
   "outputs": [
    {
     "name": "stdout",
     "output_type": "stream",
     "text": [
      "+--------------------------+\n",
      "|count(DISTINCT customerid)|\n",
      "+--------------------------+\n",
      "|                       500|\n",
      "+--------------------------+\n",
      "\n"
     ]
    }
   ],
   "source": [
    "spark.sql(\"\"\"select count(distinct c.customerid) from tmp_customer as c \"\"\").show()"
   ]
  },
  {
   "cell_type": "markdown",
   "id": "e1b13202",
   "metadata": {},
   "source": [
    "<h5> Question 3: we want to find all the customers that haven't made a purchase yet as part of a marketing campaign, please write some code to generate that - Hint: Make use of the explode function </h5>"
   ]
  },
  {
   "cell_type": "code",
   "execution_count": null,
   "id": "27df8f37",
   "metadata": {},
   "outputs": [
    {
     "name": "stdout",
     "output_type": "stream",
     "text": [
      "+------------------+\n",
      "|         sum(cost)|\n",
      "+------------------+\n",
      "|225.35000000000002|\n",
      "| 661.8600000000001|\n",
      "|             474.5|\n",
      "|           1050.48|\n",
      "|            165.84|\n",
      "| 463.4699999999999|\n",
      "|            686.48|\n",
      "|            369.24|\n",
      "|349.71999999999997|\n",
      "| 706.6800000000001|\n",
      "|             263.5|\n",
      "|           1180.92|\n",
      "|443.34000000000003|\n",
      "| 94.32000000000001|\n",
      "|            476.64|\n",
      "|              94.4|\n",
      "|1645.4299999999998|\n",
      "| 918.9000000000001|\n",
      "|            104.37|\n",
      "|            758.88|\n",
      "+------------------+\n",
      "only showing top 20 rows\n",
      "\n"
     ]
    }
   ],
   "source": [
    "\n",
    "#Here we have intentionally picked the first item in the array to give the wrong value, we are instead expecting them to try and explode this array and get the correct answer this way\n",
    "spark.sql('select sum(cost) from tmp_product as p join tmp_sales as s on element_at(s.productIDs, 1) = p.productID group by p.productID').show()\n"
   ]
  },
  {
   "cell_type": "markdown",
   "id": "00164a48",
   "metadata": {},
   "source": [
    "<h5> Question 4: Please Generate the date that a customer made their second purchase on the website. Hint: Make use of the Row_Number function </h5>"
   ]
  },
  {
   "cell_type": "code",
   "execution_count": null,
   "id": "577a72fc",
   "metadata": {},
   "outputs": [
    {
     "name": "stdout",
     "output_type": "stream",
     "text": [
      "+----------+-------------+\n",
      "|CustomerID|FirstPurchase|\n",
      "+----------+-------------+\n",
      "|       001|   2023-10-23|\n",
      "|       001|   2023-10-23|\n",
      "|       001|   2023-10-23|\n",
      "|       001|   2023-10-23|\n",
      "|       002|   2023-11-16|\n",
      "|       002|   2023-11-16|\n",
      "|       003|   2023-10-15|\n",
      "|       003|   2023-10-15|\n",
      "|       003|   2023-10-15|\n",
      "|       003|   2023-10-15|\n",
      "|       004|   2023-08-12|\n",
      "|       004|   2023-08-12|\n",
      "|       004|   2023-08-12|\n",
      "|       005|   2023-12-30|\n",
      "|       005|   2023-12-30|\n",
      "|       005|   2023-12-30|\n",
      "|       005|   2023-12-30|\n",
      "|       007|   2023-08-11|\n",
      "|       007|   2023-08-11|\n",
      "|       007|   2023-08-11|\n",
      "+----------+-------------+\n",
      "only showing top 20 rows\n",
      "\n"
     ]
    }
   ],
   "source": [
    "spark.sql('select CustomerID, FIRST_VALUE(Purchase_Date) over (Partition By CustomerID Order By Purchase_Date Desc) as FirstPurchase from tmp_sales').show()\n"
   ]
  },
  {
   "cell_type": "code",
   "execution_count": null,
   "id": "b9842ba7",
   "metadata": {},
   "outputs": [],
   "source": []
  }
 ],
 "metadata": {
  "kernelspec": {
   "display_name": ".venv",
   "language": "python",
   "name": "python3"
  },
  "language_info": {
   "codemirror_mode": {
    "name": "ipython",
    "version": 3
   },
   "file_extension": ".py",
   "mimetype": "text/x-python",
   "name": "python",
   "nbconvert_exporter": "python",
   "pygments_lexer": "ipython3",
   "version": "3.10.17"
  }
 },
 "nbformat": 4,
 "nbformat_minor": 5
}
