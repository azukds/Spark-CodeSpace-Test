{
 "cells": [
  {
   "cell_type": "code",
   "execution_count": 1,
   "metadata": {},
   "outputs": [
    {
     "name": "stderr",
     "output_type": "stream",
     "text": [
      "23/11/30 12:06:32 WARN Utils: Your hostname, codespaces-8926ef resolves to a loopback address: 127.0.0.1; using 172.16.5.4 instead (on interface eth0)\n",
      "23/11/30 12:06:32 WARN Utils: Set SPARK_LOCAL_IP if you need to bind to another address\n",
      "Setting default log level to \"WARN\".\n",
      "To adjust logging level use sc.setLogLevel(newLevel). For SparkR, use setLogLevel(newLevel).\n",
      "23/11/30 12:06:34 WARN NativeCodeLoader: Unable to load native-hadoop library for your platform... using builtin-java classes where applicable\n"
     ]
    }
   ],
   "source": [
    "from pyspark.sql import SparkSession\n",
    "\n",
    "# Initialize a SparkSession\n",
    "spark = (\n",
    "    SparkSession.builder.appName(\"Spark Example\").getOrCreate()\n",
    ")"
   ]
  },
  {
   "cell_type": "code",
   "execution_count": 2,
   "metadata": {},
   "outputs": [
    {
     "data": {
      "text/plain": [
       "DataFrame[Firstname: string, Lastname: string, Country: string, Age: bigint]"
      ]
     },
     "execution_count": 2,
     "metadata": {},
     "output_type": "execute_result"
    }
   ],
   "source": [
    "\n",
    "# Example DataFrame\n",
    "data = [\n",
    "    (\"James\", \"Smith\", \"USA\", 30),\n",
    "    (\"Michael\", \"Rose\", \"USA\", 45),\n",
    "    (\"Robert\", \"Williams\", \"USA\", 25),\n",
    "    (\"Maria\", \"Jones\", \"USA\", 22),\n",
    "]\n",
    "\n",
    "columns = [\"Firstname\", \"Lastname\", \"Country\", \"Age\"]\n",
    "df = spark.createDataFrame(data, columns)\n",
    "df"
   ]
  },
  {
   "cell_type": "code",
   "execution_count": 3,
   "metadata": {},
   "outputs": [
    {
     "name": "stderr",
     "output_type": "stream",
     "text": [
      "                                                                                \r"
     ]
    },
    {
     "name": "stdout",
     "output_type": "stream",
     "text": [
      "+---------+--------+-------+---+\n",
      "|Firstname|Lastname|Country|Age|\n",
      "+---------+--------+-------+---+\n",
      "|    James|   Smith|    USA| 30|\n",
      "|  Michael|    Rose|    USA| 45|\n",
      "|   Robert|Williams|    USA| 25|\n",
      "|    Maria|   Jones|    USA| 22|\n",
      "+---------+--------+-------+---+\n",
      "\n"
     ]
    }
   ],
   "source": [
    "# Show the DataFrame\n",
    "df.show()"
   ]
  },
  {
   "cell_type": "code",
   "execution_count": 4,
   "metadata": {},
   "outputs": [
    {
     "name": "stdout",
     "output_type": "stream",
     "text": [
      "+---------+\n",
      "|FirstName|\n",
      "+---------+\n",
      "|    James|\n",
      "|  Michael|\n",
      "|   Robert|\n",
      "|    Maria|\n",
      "+---------+\n",
      "\n"
     ]
    }
   ],
   "source": [
    "# Register the DataFrame as a SQL temporary view\n",
    "df.createOrReplaceTempView(\"customer\")\n",
    "\n",
    "# Run SQL commands\n",
    "spark.sql(\"select FirstName from customer\").show()"
   ]
  },
  {
   "cell_type": "markdown",
   "metadata": {},
   "source": [
    "### Load sparksql_magic command to enable %%sparksql magic commands\n"
   ]
  },
  {
   "cell_type": "code",
   "execution_count": 5,
   "metadata": {},
   "outputs": [],
   "source": [
    "%load_ext sparksql_magic"
   ]
  },
  {
   "cell_type": "code",
   "execution_count": 6,
   "metadata": {},
   "outputs": [
    {
     "data": {
      "text/html": [
       "<table><tr style=\"border-bottom: 1px solid\"><td style=\"font-weight: bold\">FirstName</td><td style=\"font-weight: bold\">Firstname</td><td style=\"font-weight: bold\">Lastname</td><td style=\"font-weight: bold\">Country</td><td style=\"font-weight: bold\">Age</td></tr><tr><td>James</td><td>James</td><td>Smith</td><td>USA</td><td>30</td></tr><tr><td>Michael</td><td>Michael</td><td>Rose</td><td>USA</td><td>45</td></tr><tr><td>Robert</td><td>Robert</td><td>Williams</td><td>USA</td><td>25</td></tr><tr><td>Maria</td><td>Maria</td><td>Jones</td><td>USA</td><td>22</td></tr></table>"
      ],
      "text/plain": [
       "<IPython.core.display.HTML object>"
      ]
     },
     "execution_count": 6,
     "metadata": {},
     "output_type": "execute_result"
    }
   ],
   "source": [
    "%%sparksql\n",
    "select FirstName, * from customer"
   ]
  }
 ],
 "metadata": {
  "kernelspec": {
   "display_name": "Python 3",
   "language": "python",
   "name": "python3"
  },
  "language_info": {
   "codemirror_mode": {
    "name": "ipython",
    "version": 3
   },
   "file_extension": ".py",
   "mimetype": "text/x-python",
   "name": "python",
   "nbconvert_exporter": "python",
   "pygments_lexer": "ipython3",
   "version": "3.10.12"
  }
 },
 "nbformat": 4,
 "nbformat_minor": 2
}
